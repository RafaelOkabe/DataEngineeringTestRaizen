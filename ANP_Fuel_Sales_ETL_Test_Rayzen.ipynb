{
  "nbformat": 4,
  "nbformat_minor": 0,
  "metadata": {
    "colab": {
      "name": "ANP Fuel Sales ETL Test Rayzen.ipynb",
      "provenance": [],
      "authorship_tag": "ABX9TyMKLKJBYeRy2lsY6kCcB27p"
    },
    "kernelspec": {
      "name": "python3",
      "display_name": "Python 3"
    },
    "language_info": {
      "name": "python"
    }
  },
  "cells": [
    {
      "cell_type": "code",
      "source": [
        "!pip install xlrd==1.2.0"
      ],
      "metadata": {
        "colab": {
          "base_uri": "https://localhost:8080/"
        },
        "id": "EPfyvRncYE2N",
        "outputId": "d0e9e64e-3c55-467e-d5e9-0e649d2a1869"
      },
      "execution_count": 1,
      "outputs": [
        {
          "output_type": "stream",
          "name": "stdout",
          "text": [
            "Looking in indexes: https://pypi.org/simple, https://us-python.pkg.dev/colab-wheels/public/simple/\n",
            "Requirement already satisfied: xlrd==1.2.0 in /usr/local/lib/python3.7/dist-packages (1.2.0)\n"
          ]
        }
      ]
    },
    {
      "cell_type": "code",
      "execution_count": 2,
      "metadata": {
        "id": "9N5eatXIQoKd"
      },
      "outputs": [],
      "source": [
        "import pandas as pd\n",
        "import xlrd\n",
        "import numpy as np\n",
        "import datetime as dt\n",
        "from pandas._libs.tslibs.timestamps import Timestamp"
      ]
    },
    {
      "cell_type": "markdown",
      "source": [
        "##Sales of oil derivative fuels by UF and product"
      ],
      "metadata": {
        "id": "tETEv4W6PPzc"
      }
    },
    {
      "cell_type": "code",
      "source": [
        "# Buscando os dados da primeira tabela\n",
        "df_comb_uf_prod = pd.read_excel('vendas-combustiveis-m3.xls',\n",
        "                                sheet_name = 'SourceDataUFByProd',\n",
        "                                nrows = 4537,\n",
        "                                usecols = 'A:Q'\n",
        "                                )"
      ],
      "metadata": {
        "id": "bNoSWvp2Bx6X"
      },
      "execution_count": 3,
      "outputs": []
    },
    {
      "cell_type": "code",
      "source": [
        "# Convertendo os meses em linhas\n",
        "df_comb_uf_prod2 = pd.melt(df_comb_uf_prod,\n",
        "                           id_vars=['COMBUSTÍVEL', 'ANO', 'REGIÃO', 'ESTADO', 'UNIDADE'],\n",
        "                           var_name='mes',\n",
        "                           value_name='volume'\n",
        "                           )"
      ],
      "metadata": {
        "id": "msyATOLnMUyW"
      },
      "execution_count": 4,
      "outputs": []
    },
    {
      "cell_type": "code",
      "source": [
        "# Alterando os nomes do mês para números\n",
        "de_para = {'Jan':1, 'Fev':2,'Mar':3, 'Abr':4, 'Mai':5, 'Jun':6, 'Jul':7, 'Ago':8, 'Set':9, 'Out':10, 'Nov':11, 'Dez':12}\n",
        "\n",
        "numberMonth = []\n",
        "for mes in df_comb_uf_prod2['mes']:\n",
        "    numberMonth.append(de_para.get(mes))\n",
        "\n",
        "df_comb_uf_prod2['numberOfMonth'] = np.array(numberMonth)"
      ],
      "metadata": {
        "id": "IuVByj_uG1Oz"
      },
      "execution_count": 5,
      "outputs": []
    },
    {
      "cell_type": "code",
      "source": [
        "# Concatenando as colunas de ano e mês\n",
        "df_comb_uf_prod2['year_month'] = pd.to_datetime(df_comb_uf_prod2['ANO'].map(str) + '/' + df_comb_uf_prod2['numberOfMonth'].map(str)).dt.to_period('M')"
      ],
      "metadata": {
        "id": "GBwtkf-1R0_N"
      },
      "execution_count": 6,
      "outputs": []
    },
    {
      "cell_type": "code",
      "source": [
        "# Adicionando coluna created_at\n",
        "df_comb_uf_prod2['created_at'] = Timestamp.now()"
      ],
      "metadata": {
        "id": "j5ENe_GcU21K"
      },
      "execution_count": 7,
      "outputs": []
    },
    {
      "cell_type": "code",
      "source": [
        "# Deletando as colunas não utilizadas\n",
        "del df_comb_uf_prod2['mes']\n",
        "del df_comb_uf_prod2['REGIÃO']\n",
        "del df_comb_uf_prod2['ANO']"
      ],
      "metadata": {
        "id": "ObRY9JapOaC9"
      },
      "execution_count": 8,
      "outputs": []
    },
    {
      "cell_type": "code",
      "source": [
        "# Renomando as colunas\n",
        "df_comb_uf_prod2 = df_comb_uf_prod2.rename(columns = {'COMBUSTÍVEL':'product', 'ESTADO':'uf', 'UNIDADE':'unit'})"
      ],
      "metadata": {
        "id": "N9OH0IBFPX3_"
      },
      "execution_count": 9,
      "outputs": []
    },
    {
      "cell_type": "code",
      "source": [
        "# Alterando os tipos de dados\n",
        "df_comb_uf_prod2 = df_comb_uf_prod2.astype({'uf': str, 'product': str, 'unit': str, 'volume': float})"
      ],
      "metadata": {
        "id": "I5TEXCmFT1lV"
      },
      "execution_count": 10,
      "outputs": []
    },
    {
      "cell_type": "code",
      "source": [
        "# Reordenando as colunas\n",
        "df_comb_uf_prod2 = df_comb_uf_prod2[['year_month', 'uf', 'product', 'unit', 'volume', 'created_at']]"
      ],
      "metadata": {
        "id": "9EZthPaUTYe3"
      },
      "execution_count": 11,
      "outputs": []
    },
    {
      "cell_type": "code",
      "source": [
        "# Visualização dos dados\n",
        "display(df_comb_uf_prod2)"
      ],
      "metadata": {
        "colab": {
          "base_uri": "https://localhost:8080/",
          "height": 424
        },
        "id": "YWkjBLKyTH4x",
        "outputId": "336c6a38-0504-4dbb-8ee8-de777e0867f0"
      },
      "execution_count": 12,
      "outputs": [
        {
          "output_type": "display_data",
          "data": {
            "text/plain": [
              "      year_month                  uf          product unit     volume  \\\n",
              "0        2000-01            RONDÔNIA  GASOLINA C (m3)   m3   9563.263   \n",
              "1        2000-01                ACRE  GASOLINA C (m3)   m3   3065.758   \n",
              "2        2000-01            AMAZONAS  GASOLINA C (m3)   m3  17615.604   \n",
              "3        2000-01             RORAIMA  GASOLINA C (m3)   m3   3259.300   \n",
              "4        2000-01                PARÁ  GASOLINA C (m3)   m3  28830.479   \n",
              "...          ...                 ...              ...  ...        ...   \n",
              "54427    2020-12   RIO GRANDE DO SUL         GLP (m3)   m3        NaN   \n",
              "54428    2020-12  MATO GROSSO DO SUL         GLP (m3)   m3        NaN   \n",
              "54429    2020-12         MATO GROSSO         GLP (m3)   m3        NaN   \n",
              "54430    2020-12               GOIÁS         GLP (m3)   m3        NaN   \n",
              "54431    2020-12    DISTRITO FEDERAL         GLP (m3)   m3        NaN   \n",
              "\n",
              "                      created_at  \n",
              "0     2022-06-09 12:47:26.692480  \n",
              "1     2022-06-09 12:47:26.692480  \n",
              "2     2022-06-09 12:47:26.692480  \n",
              "3     2022-06-09 12:47:26.692480  \n",
              "4     2022-06-09 12:47:26.692480  \n",
              "...                          ...  \n",
              "54427 2022-06-09 12:47:26.692480  \n",
              "54428 2022-06-09 12:47:26.692480  \n",
              "54429 2022-06-09 12:47:26.692480  \n",
              "54430 2022-06-09 12:47:26.692480  \n",
              "54431 2022-06-09 12:47:26.692480  \n",
              "\n",
              "[54432 rows x 6 columns]"
            ],
            "text/html": [
              "\n",
              "  <div id=\"df-ef4b11aa-42f1-4611-9cd5-0b728af494cb\">\n",
              "    <div class=\"colab-df-container\">\n",
              "      <div>\n",
              "<style scoped>\n",
              "    .dataframe tbody tr th:only-of-type {\n",
              "        vertical-align: middle;\n",
              "    }\n",
              "\n",
              "    .dataframe tbody tr th {\n",
              "        vertical-align: top;\n",
              "    }\n",
              "\n",
              "    .dataframe thead th {\n",
              "        text-align: right;\n",
              "    }\n",
              "</style>\n",
              "<table border=\"1\" class=\"dataframe\">\n",
              "  <thead>\n",
              "    <tr style=\"text-align: right;\">\n",
              "      <th></th>\n",
              "      <th>year_month</th>\n",
              "      <th>uf</th>\n",
              "      <th>product</th>\n",
              "      <th>unit</th>\n",
              "      <th>volume</th>\n",
              "      <th>created_at</th>\n",
              "    </tr>\n",
              "  </thead>\n",
              "  <tbody>\n",
              "    <tr>\n",
              "      <th>0</th>\n",
              "      <td>2000-01</td>\n",
              "      <td>RONDÔNIA</td>\n",
              "      <td>GASOLINA C (m3)</td>\n",
              "      <td>m3</td>\n",
              "      <td>9563.263</td>\n",
              "      <td>2022-06-09 12:47:26.692480</td>\n",
              "    </tr>\n",
              "    <tr>\n",
              "      <th>1</th>\n",
              "      <td>2000-01</td>\n",
              "      <td>ACRE</td>\n",
              "      <td>GASOLINA C (m3)</td>\n",
              "      <td>m3</td>\n",
              "      <td>3065.758</td>\n",
              "      <td>2022-06-09 12:47:26.692480</td>\n",
              "    </tr>\n",
              "    <tr>\n",
              "      <th>2</th>\n",
              "      <td>2000-01</td>\n",
              "      <td>AMAZONAS</td>\n",
              "      <td>GASOLINA C (m3)</td>\n",
              "      <td>m3</td>\n",
              "      <td>17615.604</td>\n",
              "      <td>2022-06-09 12:47:26.692480</td>\n",
              "    </tr>\n",
              "    <tr>\n",
              "      <th>3</th>\n",
              "      <td>2000-01</td>\n",
              "      <td>RORAIMA</td>\n",
              "      <td>GASOLINA C (m3)</td>\n",
              "      <td>m3</td>\n",
              "      <td>3259.300</td>\n",
              "      <td>2022-06-09 12:47:26.692480</td>\n",
              "    </tr>\n",
              "    <tr>\n",
              "      <th>4</th>\n",
              "      <td>2000-01</td>\n",
              "      <td>PARÁ</td>\n",
              "      <td>GASOLINA C (m3)</td>\n",
              "      <td>m3</td>\n",
              "      <td>28830.479</td>\n",
              "      <td>2022-06-09 12:47:26.692480</td>\n",
              "    </tr>\n",
              "    <tr>\n",
              "      <th>...</th>\n",
              "      <td>...</td>\n",
              "      <td>...</td>\n",
              "      <td>...</td>\n",
              "      <td>...</td>\n",
              "      <td>...</td>\n",
              "      <td>...</td>\n",
              "    </tr>\n",
              "    <tr>\n",
              "      <th>54427</th>\n",
              "      <td>2020-12</td>\n",
              "      <td>RIO GRANDE DO SUL</td>\n",
              "      <td>GLP (m3)</td>\n",
              "      <td>m3</td>\n",
              "      <td>NaN</td>\n",
              "      <td>2022-06-09 12:47:26.692480</td>\n",
              "    </tr>\n",
              "    <tr>\n",
              "      <th>54428</th>\n",
              "      <td>2020-12</td>\n",
              "      <td>MATO GROSSO DO SUL</td>\n",
              "      <td>GLP (m3)</td>\n",
              "      <td>m3</td>\n",
              "      <td>NaN</td>\n",
              "      <td>2022-06-09 12:47:26.692480</td>\n",
              "    </tr>\n",
              "    <tr>\n",
              "      <th>54429</th>\n",
              "      <td>2020-12</td>\n",
              "      <td>MATO GROSSO</td>\n",
              "      <td>GLP (m3)</td>\n",
              "      <td>m3</td>\n",
              "      <td>NaN</td>\n",
              "      <td>2022-06-09 12:47:26.692480</td>\n",
              "    </tr>\n",
              "    <tr>\n",
              "      <th>54430</th>\n",
              "      <td>2020-12</td>\n",
              "      <td>GOIÁS</td>\n",
              "      <td>GLP (m3)</td>\n",
              "      <td>m3</td>\n",
              "      <td>NaN</td>\n",
              "      <td>2022-06-09 12:47:26.692480</td>\n",
              "    </tr>\n",
              "    <tr>\n",
              "      <th>54431</th>\n",
              "      <td>2020-12</td>\n",
              "      <td>DISTRITO FEDERAL</td>\n",
              "      <td>GLP (m3)</td>\n",
              "      <td>m3</td>\n",
              "      <td>NaN</td>\n",
              "      <td>2022-06-09 12:47:26.692480</td>\n",
              "    </tr>\n",
              "  </tbody>\n",
              "</table>\n",
              "<p>54432 rows × 6 columns</p>\n",
              "</div>\n",
              "      <button class=\"colab-df-convert\" onclick=\"convertToInteractive('df-ef4b11aa-42f1-4611-9cd5-0b728af494cb')\"\n",
              "              title=\"Convert this dataframe to an interactive table.\"\n",
              "              style=\"display:none;\">\n",
              "        \n",
              "  <svg xmlns=\"http://www.w3.org/2000/svg\" height=\"24px\"viewBox=\"0 0 24 24\"\n",
              "       width=\"24px\">\n",
              "    <path d=\"M0 0h24v24H0V0z\" fill=\"none\"/>\n",
              "    <path d=\"M18.56 5.44l.94 2.06.94-2.06 2.06-.94-2.06-.94-.94-2.06-.94 2.06-2.06.94zm-11 1L8.5 8.5l.94-2.06 2.06-.94-2.06-.94L8.5 2.5l-.94 2.06-2.06.94zm10 10l.94 2.06.94-2.06 2.06-.94-2.06-.94-.94-2.06-.94 2.06-2.06.94z\"/><path d=\"M17.41 7.96l-1.37-1.37c-.4-.4-.92-.59-1.43-.59-.52 0-1.04.2-1.43.59L10.3 9.45l-7.72 7.72c-.78.78-.78 2.05 0 2.83L4 21.41c.39.39.9.59 1.41.59.51 0 1.02-.2 1.41-.59l7.78-7.78 2.81-2.81c.8-.78.8-2.07 0-2.86zM5.41 20L4 18.59l7.72-7.72 1.47 1.35L5.41 20z\"/>\n",
              "  </svg>\n",
              "      </button>\n",
              "      \n",
              "  <style>\n",
              "    .colab-df-container {\n",
              "      display:flex;\n",
              "      flex-wrap:wrap;\n",
              "      gap: 12px;\n",
              "    }\n",
              "\n",
              "    .colab-df-convert {\n",
              "      background-color: #E8F0FE;\n",
              "      border: none;\n",
              "      border-radius: 50%;\n",
              "      cursor: pointer;\n",
              "      display: none;\n",
              "      fill: #1967D2;\n",
              "      height: 32px;\n",
              "      padding: 0 0 0 0;\n",
              "      width: 32px;\n",
              "    }\n",
              "\n",
              "    .colab-df-convert:hover {\n",
              "      background-color: #E2EBFA;\n",
              "      box-shadow: 0px 1px 2px rgba(60, 64, 67, 0.3), 0px 1px 3px 1px rgba(60, 64, 67, 0.15);\n",
              "      fill: #174EA6;\n",
              "    }\n",
              "\n",
              "    [theme=dark] .colab-df-convert {\n",
              "      background-color: #3B4455;\n",
              "      fill: #D2E3FC;\n",
              "    }\n",
              "\n",
              "    [theme=dark] .colab-df-convert:hover {\n",
              "      background-color: #434B5C;\n",
              "      box-shadow: 0px 1px 3px 1px rgba(0, 0, 0, 0.15);\n",
              "      filter: drop-shadow(0px 1px 2px rgba(0, 0, 0, 0.3));\n",
              "      fill: #FFFFFF;\n",
              "    }\n",
              "  </style>\n",
              "\n",
              "      <script>\n",
              "        const buttonEl =\n",
              "          document.querySelector('#df-ef4b11aa-42f1-4611-9cd5-0b728af494cb button.colab-df-convert');\n",
              "        buttonEl.style.display =\n",
              "          google.colab.kernel.accessAllowed ? 'block' : 'none';\n",
              "\n",
              "        async function convertToInteractive(key) {\n",
              "          const element = document.querySelector('#df-ef4b11aa-42f1-4611-9cd5-0b728af494cb');\n",
              "          const dataTable =\n",
              "            await google.colab.kernel.invokeFunction('convertToInteractive',\n",
              "                                                     [key], {});\n",
              "          if (!dataTable) return;\n",
              "\n",
              "          const docLinkHtml = 'Like what you see? Visit the ' +\n",
              "            '<a target=\"_blank\" href=https://colab.research.google.com/notebooks/data_table.ipynb>data table notebook</a>'\n",
              "            + ' to learn more about interactive tables.';\n",
              "          element.innerHTML = '';\n",
              "          dataTable['output_type'] = 'display_data';\n",
              "          await google.colab.output.renderOutput(dataTable, element);\n",
              "          const docLink = document.createElement('div');\n",
              "          docLink.innerHTML = docLinkHtml;\n",
              "          element.appendChild(docLink);\n",
              "        }\n",
              "      </script>\n",
              "    </div>\n",
              "  </div>\n",
              "  "
            ]
          },
          "metadata": {}
        }
      ]
    },
    {
      "cell_type": "code",
      "source": [
        "# Verificação dos resultados\n",
        "df_comb_uf_prod2.loc[df_comb_uf_prod2['year_month'] == '2008-06', 'volume'].sum()"
      ],
      "metadata": {
        "colab": {
          "base_uri": "https://localhost:8080/"
        },
        "id": "7ZehmDdMpVuR",
        "outputId": "4020151f-8e2c-4a1c-92b7-c10adafec180"
      },
      "execution_count": 25,
      "outputs": [
        {
          "output_type": "execute_result",
          "data": {
            "text/plain": [
              "8798585.930695653"
            ]
          },
          "metadata": {},
          "execution_count": 25
        }
      ]
    },
    {
      "cell_type": "markdown",
      "source": [
        "##Sales of diesel by UF and type"
      ],
      "metadata": {
        "id": "R6J9iGM1PU56"
      }
    },
    {
      "cell_type": "code",
      "source": [
        "df_diesel_uf_tipo = pd.read_excel('vendas-combustiveis-m3.xls',\n",
        "                                  sheet_name = 'SourceDataUFByType',\n",
        "                                  nrows = 1081,\n",
        "                                  usecols = 'A:Q'\n",
        "                                  )"
      ],
      "metadata": {
        "id": "2o1wo733DdYZ"
      },
      "execution_count": 51,
      "outputs": []
    },
    {
      "cell_type": "code",
      "source": [
        "# Convertendo os meses em linhas\n",
        "df_diesel_uf_tipo2 = pd.melt(df_diesel_uf_tipo,\n",
        "                            id_vars=['COMBUSTÍVEL', 'ANO', 'REGIÃO', 'ESTADO', 'UNIDADE'],\n",
        "                            var_name='mes',\n",
        "                            value_name='volume'\n",
        "                            )"
      ],
      "metadata": {
        "id": "KZF8rIOBq5IH"
      },
      "execution_count": 52,
      "outputs": []
    },
    {
      "cell_type": "code",
      "source": [
        "# Alterando os nomes do mês para números\n",
        "de_para = {'Jan':1, 'Fev':2,'Mar':3, 'Abr':4, 'Mai':5, 'Jun':6, 'Jul':7, 'Ago':8, 'Set':9, 'Out':10, 'Nov':11, 'Dez':12}\n",
        "\n",
        "numberMonth = []\n",
        "for mes in df_diesel_uf_tipo2['mes']:\n",
        "    numberMonth.append(de_para.get(mes))\n",
        "\n",
        "df_diesel_uf_tipo2['numberOfMonth'] = np.array(numberMonth)"
      ],
      "metadata": {
        "id": "QUA6F06HrCm1"
      },
      "execution_count": 53,
      "outputs": []
    },
    {
      "cell_type": "code",
      "source": [
        "# Concatenando as colunas de ano e mês\n",
        "df_diesel_uf_tipo2['year_month'] = pd.to_datetime(df_diesel_uf_tipo2['ANO'].map(str) + '/' + df_diesel_uf_tipo2['numberOfMonth'].map(str)).dt.to_period('M')"
      ],
      "metadata": {
        "id": "Ek1GU6fXrIB2"
      },
      "execution_count": 54,
      "outputs": []
    },
    {
      "cell_type": "code",
      "source": [
        "# Adicionando coluna created_at\n",
        "df_diesel_uf_tipo2['created_at'] = Timestamp.now()"
      ],
      "metadata": {
        "id": "KgkBQsG3rNCE"
      },
      "execution_count": 55,
      "outputs": []
    },
    {
      "cell_type": "code",
      "source": [
        "# Deletando as colunas não utilizadas\n",
        "del df_diesel_uf_tipo2['mes']\n",
        "del df_diesel_uf_tipo2['REGIÃO']\n",
        "del df_diesel_uf_tipo2['ANO']"
      ],
      "metadata": {
        "id": "QepU8JKfrO_D"
      },
      "execution_count": 56,
      "outputs": []
    },
    {
      "cell_type": "code",
      "source": [
        "# Renomando as colunas\n",
        "df_diesel_uf_tipo2 = df_diesel_uf_tipo2.rename(columns = {'COMBUSTÍVEL':'product', 'ESTADO':'uf', 'UNIDADE':'unit'})"
      ],
      "metadata": {
        "id": "59lVOTTdrVLK"
      },
      "execution_count": 57,
      "outputs": []
    },
    {
      "cell_type": "code",
      "source": [
        "# Alterando os tipos de dados\n",
        "df_diesel_uf_tipo2 = df_diesel_uf_tipo2.astype({'uf': str, 'product': str, 'unit': str, 'volume': float})"
      ],
      "metadata": {
        "id": "NxYpB3OQrVEj"
      },
      "execution_count": 58,
      "outputs": []
    },
    {
      "cell_type": "code",
      "source": [
        "# Reordenando as colunas\n",
        "df_diesel_uf_tipo2 = df_diesel_uf_tipo2[['year_month', 'uf', 'product', 'unit', 'volume', 'created_at']]"
      ],
      "metadata": {
        "id": "N6azcHj6rdO5"
      },
      "execution_count": 59,
      "outputs": []
    },
    {
      "cell_type": "code",
      "source": [
        "# Visualização dos dados\n",
        "display(df_diesel_uf_tipo2)"
      ],
      "metadata": {
        "colab": {
          "base_uri": "https://localhost:8080/",
          "height": 424
        },
        "id": "m5p6rjKBrgLR",
        "outputId": "e6951a57-7a7b-4365-ed50-31be51b9b1bb"
      },
      "execution_count": 60,
      "outputs": [
        {
          "output_type": "display_data",
          "data": {
            "text/plain": [
              "      year_month                  uf                     product unit  \\\n",
              "0        2013-01            RONDÔNIA       ÓLEO DIESEL S-10 (m3)   m3   \n",
              "1        2013-01                ACRE       ÓLEO DIESEL S-10 (m3)   m3   \n",
              "2        2013-01            AMAZONAS       ÓLEO DIESEL S-10 (m3)   m3   \n",
              "3        2013-01             RORAIMA       ÓLEO DIESEL S-10 (m3)   m3   \n",
              "4        2013-01                PARÁ       ÓLEO DIESEL S-10 (m3)   m3   \n",
              "...          ...                 ...                         ...  ...   \n",
              "12955    2020-12   RIO GRANDE DO SUL  ÓLEO DIESEL (OUTROS ) (m3)   m3   \n",
              "12956    2020-12  MATO GROSSO DO SUL  ÓLEO DIESEL (OUTROS ) (m3)   m3   \n",
              "12957    2020-12         MATO GROSSO  ÓLEO DIESEL (OUTROS ) (m3)   m3   \n",
              "12958    2020-12               GOIÁS  ÓLEO DIESEL (OUTROS ) (m3)   m3   \n",
              "12959    2020-12    DISTRITO FEDERAL  ÓLEO DIESEL (OUTROS ) (m3)   m3   \n",
              "\n",
              "          volume                 created_at  \n",
              "0       3517.600 2022-06-09 13:38:51.164231  \n",
              "1        363.000 2022-06-09 13:38:51.164231  \n",
              "2       3190.585 2022-06-09 13:38:51.164231  \n",
              "3        795.400 2022-06-09 13:38:51.164231  \n",
              "4      30137.800 2022-06-09 13:38:51.164231  \n",
              "...          ...                        ...  \n",
              "12955        NaN 2022-06-09 13:38:51.164231  \n",
              "12956        NaN 2022-06-09 13:38:51.164231  \n",
              "12957        NaN 2022-06-09 13:38:51.164231  \n",
              "12958        NaN 2022-06-09 13:38:51.164231  \n",
              "12959        NaN 2022-06-09 13:38:51.164231  \n",
              "\n",
              "[12960 rows x 6 columns]"
            ],
            "text/html": [
              "\n",
              "  <div id=\"df-8fa03a8e-1674-4de4-8214-a996d26db5cd\">\n",
              "    <div class=\"colab-df-container\">\n",
              "      <div>\n",
              "<style scoped>\n",
              "    .dataframe tbody tr th:only-of-type {\n",
              "        vertical-align: middle;\n",
              "    }\n",
              "\n",
              "    .dataframe tbody tr th {\n",
              "        vertical-align: top;\n",
              "    }\n",
              "\n",
              "    .dataframe thead th {\n",
              "        text-align: right;\n",
              "    }\n",
              "</style>\n",
              "<table border=\"1\" class=\"dataframe\">\n",
              "  <thead>\n",
              "    <tr style=\"text-align: right;\">\n",
              "      <th></th>\n",
              "      <th>year_month</th>\n",
              "      <th>uf</th>\n",
              "      <th>product</th>\n",
              "      <th>unit</th>\n",
              "      <th>volume</th>\n",
              "      <th>created_at</th>\n",
              "    </tr>\n",
              "  </thead>\n",
              "  <tbody>\n",
              "    <tr>\n",
              "      <th>0</th>\n",
              "      <td>2013-01</td>\n",
              "      <td>RONDÔNIA</td>\n",
              "      <td>ÓLEO DIESEL S-10 (m3)</td>\n",
              "      <td>m3</td>\n",
              "      <td>3517.600</td>\n",
              "      <td>2022-06-09 13:38:51.164231</td>\n",
              "    </tr>\n",
              "    <tr>\n",
              "      <th>1</th>\n",
              "      <td>2013-01</td>\n",
              "      <td>ACRE</td>\n",
              "      <td>ÓLEO DIESEL S-10 (m3)</td>\n",
              "      <td>m3</td>\n",
              "      <td>363.000</td>\n",
              "      <td>2022-06-09 13:38:51.164231</td>\n",
              "    </tr>\n",
              "    <tr>\n",
              "      <th>2</th>\n",
              "      <td>2013-01</td>\n",
              "      <td>AMAZONAS</td>\n",
              "      <td>ÓLEO DIESEL S-10 (m3)</td>\n",
              "      <td>m3</td>\n",
              "      <td>3190.585</td>\n",
              "      <td>2022-06-09 13:38:51.164231</td>\n",
              "    </tr>\n",
              "    <tr>\n",
              "      <th>3</th>\n",
              "      <td>2013-01</td>\n",
              "      <td>RORAIMA</td>\n",
              "      <td>ÓLEO DIESEL S-10 (m3)</td>\n",
              "      <td>m3</td>\n",
              "      <td>795.400</td>\n",
              "      <td>2022-06-09 13:38:51.164231</td>\n",
              "    </tr>\n",
              "    <tr>\n",
              "      <th>4</th>\n",
              "      <td>2013-01</td>\n",
              "      <td>PARÁ</td>\n",
              "      <td>ÓLEO DIESEL S-10 (m3)</td>\n",
              "      <td>m3</td>\n",
              "      <td>30137.800</td>\n",
              "      <td>2022-06-09 13:38:51.164231</td>\n",
              "    </tr>\n",
              "    <tr>\n",
              "      <th>...</th>\n",
              "      <td>...</td>\n",
              "      <td>...</td>\n",
              "      <td>...</td>\n",
              "      <td>...</td>\n",
              "      <td>...</td>\n",
              "      <td>...</td>\n",
              "    </tr>\n",
              "    <tr>\n",
              "      <th>12955</th>\n",
              "      <td>2020-12</td>\n",
              "      <td>RIO GRANDE DO SUL</td>\n",
              "      <td>ÓLEO DIESEL (OUTROS ) (m3)</td>\n",
              "      <td>m3</td>\n",
              "      <td>NaN</td>\n",
              "      <td>2022-06-09 13:38:51.164231</td>\n",
              "    </tr>\n",
              "    <tr>\n",
              "      <th>12956</th>\n",
              "      <td>2020-12</td>\n",
              "      <td>MATO GROSSO DO SUL</td>\n",
              "      <td>ÓLEO DIESEL (OUTROS ) (m3)</td>\n",
              "      <td>m3</td>\n",
              "      <td>NaN</td>\n",
              "      <td>2022-06-09 13:38:51.164231</td>\n",
              "    </tr>\n",
              "    <tr>\n",
              "      <th>12957</th>\n",
              "      <td>2020-12</td>\n",
              "      <td>MATO GROSSO</td>\n",
              "      <td>ÓLEO DIESEL (OUTROS ) (m3)</td>\n",
              "      <td>m3</td>\n",
              "      <td>NaN</td>\n",
              "      <td>2022-06-09 13:38:51.164231</td>\n",
              "    </tr>\n",
              "    <tr>\n",
              "      <th>12958</th>\n",
              "      <td>2020-12</td>\n",
              "      <td>GOIÁS</td>\n",
              "      <td>ÓLEO DIESEL (OUTROS ) (m3)</td>\n",
              "      <td>m3</td>\n",
              "      <td>NaN</td>\n",
              "      <td>2022-06-09 13:38:51.164231</td>\n",
              "    </tr>\n",
              "    <tr>\n",
              "      <th>12959</th>\n",
              "      <td>2020-12</td>\n",
              "      <td>DISTRITO FEDERAL</td>\n",
              "      <td>ÓLEO DIESEL (OUTROS ) (m3)</td>\n",
              "      <td>m3</td>\n",
              "      <td>NaN</td>\n",
              "      <td>2022-06-09 13:38:51.164231</td>\n",
              "    </tr>\n",
              "  </tbody>\n",
              "</table>\n",
              "<p>12960 rows × 6 columns</p>\n",
              "</div>\n",
              "      <button class=\"colab-df-convert\" onclick=\"convertToInteractive('df-8fa03a8e-1674-4de4-8214-a996d26db5cd')\"\n",
              "              title=\"Convert this dataframe to an interactive table.\"\n",
              "              style=\"display:none;\">\n",
              "        \n",
              "  <svg xmlns=\"http://www.w3.org/2000/svg\" height=\"24px\"viewBox=\"0 0 24 24\"\n",
              "       width=\"24px\">\n",
              "    <path d=\"M0 0h24v24H0V0z\" fill=\"none\"/>\n",
              "    <path d=\"M18.56 5.44l.94 2.06.94-2.06 2.06-.94-2.06-.94-.94-2.06-.94 2.06-2.06.94zm-11 1L8.5 8.5l.94-2.06 2.06-.94-2.06-.94L8.5 2.5l-.94 2.06-2.06.94zm10 10l.94 2.06.94-2.06 2.06-.94-2.06-.94-.94-2.06-.94 2.06-2.06.94z\"/><path d=\"M17.41 7.96l-1.37-1.37c-.4-.4-.92-.59-1.43-.59-.52 0-1.04.2-1.43.59L10.3 9.45l-7.72 7.72c-.78.78-.78 2.05 0 2.83L4 21.41c.39.39.9.59 1.41.59.51 0 1.02-.2 1.41-.59l7.78-7.78 2.81-2.81c.8-.78.8-2.07 0-2.86zM5.41 20L4 18.59l7.72-7.72 1.47 1.35L5.41 20z\"/>\n",
              "  </svg>\n",
              "      </button>\n",
              "      \n",
              "  <style>\n",
              "    .colab-df-container {\n",
              "      display:flex;\n",
              "      flex-wrap:wrap;\n",
              "      gap: 12px;\n",
              "    }\n",
              "\n",
              "    .colab-df-convert {\n",
              "      background-color: #E8F0FE;\n",
              "      border: none;\n",
              "      border-radius: 50%;\n",
              "      cursor: pointer;\n",
              "      display: none;\n",
              "      fill: #1967D2;\n",
              "      height: 32px;\n",
              "      padding: 0 0 0 0;\n",
              "      width: 32px;\n",
              "    }\n",
              "\n",
              "    .colab-df-convert:hover {\n",
              "      background-color: #E2EBFA;\n",
              "      box-shadow: 0px 1px 2px rgba(60, 64, 67, 0.3), 0px 1px 3px 1px rgba(60, 64, 67, 0.15);\n",
              "      fill: #174EA6;\n",
              "    }\n",
              "\n",
              "    [theme=dark] .colab-df-convert {\n",
              "      background-color: #3B4455;\n",
              "      fill: #D2E3FC;\n",
              "    }\n",
              "\n",
              "    [theme=dark] .colab-df-convert:hover {\n",
              "      background-color: #434B5C;\n",
              "      box-shadow: 0px 1px 3px 1px rgba(0, 0, 0, 0.15);\n",
              "      filter: drop-shadow(0px 1px 2px rgba(0, 0, 0, 0.3));\n",
              "      fill: #FFFFFF;\n",
              "    }\n",
              "  </style>\n",
              "\n",
              "      <script>\n",
              "        const buttonEl =\n",
              "          document.querySelector('#df-8fa03a8e-1674-4de4-8214-a996d26db5cd button.colab-df-convert');\n",
              "        buttonEl.style.display =\n",
              "          google.colab.kernel.accessAllowed ? 'block' : 'none';\n",
              "\n",
              "        async function convertToInteractive(key) {\n",
              "          const element = document.querySelector('#df-8fa03a8e-1674-4de4-8214-a996d26db5cd');\n",
              "          const dataTable =\n",
              "            await google.colab.kernel.invokeFunction('convertToInteractive',\n",
              "                                                     [key], {});\n",
              "          if (!dataTable) return;\n",
              "\n",
              "          const docLinkHtml = 'Like what you see? Visit the ' +\n",
              "            '<a target=\"_blank\" href=https://colab.research.google.com/notebooks/data_table.ipynb>data table notebook</a>'\n",
              "            + ' to learn more about interactive tables.';\n",
              "          element.innerHTML = '';\n",
              "          dataTable['output_type'] = 'display_data';\n",
              "          await google.colab.output.renderOutput(dataTable, element);\n",
              "          const docLink = document.createElement('div');\n",
              "          docLink.innerHTML = docLinkHtml;\n",
              "          element.appendChild(docLink);\n",
              "        }\n",
              "      </script>\n",
              "    </div>\n",
              "  </div>\n",
              "  "
            ]
          },
          "metadata": {}
        }
      ]
    },
    {
      "cell_type": "code",
      "source": [
        "# Verificação dos resultados\n",
        "df_diesel_uf_tipo2.loc[df_diesel_uf_tipo2['year_month'] == '2016-06', 'volume'].sum()"
      ],
      "metadata": {
        "colab": {
          "base_uri": "https://localhost:8080/"
        },
        "id": "vV5E289asLg0",
        "outputId": "63f6ca14-6178-461e-b2ef-d97f074f7b50"
      },
      "execution_count": 61,
      "outputs": [
        {
          "output_type": "execute_result",
          "data": {
            "text/plain": [
              "4616496.481000001"
            ]
          },
          "metadata": {},
          "execution_count": 61
        }
      ]
    }
  ]
}